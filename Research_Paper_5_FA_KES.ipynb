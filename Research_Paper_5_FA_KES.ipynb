{
  "nbformat": 4,
  "nbformat_minor": 0,
  "metadata": {
    "colab": {
      "provenance": []
    },
    "kernelspec": {
      "name": "python3",
      "display_name": "Python 3"
    },
    "language_info": {
      "name": "python"
    }
  },
  "cells": [
    {
      "cell_type": "markdown",
      "source": [
        "# Based on Research Paper 5"
      ],
      "metadata": {
        "id": "R0nh5GC4Q0gn"
      }
    },
    {
      "cell_type": "code",
      "execution_count": null,
      "metadata": {
        "id": "1KCl4c2uDU38"
      },
      "outputs": [],
      "source": [
        "import pandas as pd"
      ]
    },
    {
      "cell_type": "code",
      "source": [
        "MODE = \"MOUNT\" #@param [\"MOUNT\", \"UNMOUNT\"]\n",
        "#Mount your Gdrive!\n",
        "from google.colab import drive\n",
        "drive.mount._DEBUG = False\n",
        "if MODE == \"MOUNT\":\n",
        "  drive.mount('/content/drive', force_remount=True)\n",
        "elif MODE == \"UNMOUNT\":\n",
        "  try:\n",
        "    drive.flush_and_unmount()\n",
        "  except ValueError:\n",
        "    pass\n",
        "  get_ipython().system_raw(\"rm -rf /root/.config/Google/DriveFS\")"
      ],
      "metadata": {
        "colab": {
          "base_uri": "https://localhost:8080/"
        },
        "id": "7dCm_gBDcO14",
        "outputId": "dfa4a110-cfe9-4315-e3ac-f49b812cf2b6"
      },
      "execution_count": null,
      "outputs": [
        {
          "output_type": "stream",
          "name": "stdout",
          "text": [
            "Mounted at /content/drive\n"
          ]
        }
      ]
    },
    {
      "cell_type": "code",
      "source": [
        "#For ISOT\n",
        "df1=pd.read_csv(\"/content/drive/MyDrive/Datasets/ISOT/Fake.csv\")\n",
        "df2=pd.read_csv(\"/content/drive/MyDrive/Datasets/ISOT/True.csv\")\n",
        "article_content=[]\n",
        "labels=[]\n",
        "for i in df1['text']:\n",
        "  article_content.append(i)\n",
        "  labels.append(0)\n",
        "for i in df2['text']:\n",
        "  article_content.append(i)\n",
        "  labels.append(1)\n",
        "data={'article_content':article_content,'labels':labels}\n",
        "df=pd.DataFrame(data)\n",
        "df.head()"
      ],
      "metadata": {
        "id": "NNb6JfoIclMq",
        "colab": {
          "base_uri": "https://localhost:8080/",
          "height": 206
        },
        "outputId": "5440e9e9-56f7-4069-880d-0d3c54a2f29a"
      },
      "execution_count": null,
      "outputs": [
        {
          "output_type": "execute_result",
          "data": {
            "text/plain": [
              "                                     article_content  labels\n",
              "0  Donald Trump just couldn t wish all Americans ...       0\n",
              "1  House Intelligence Committee Chairman Devin Nu...       0\n",
              "2  On Friday, it was revealed that former Milwauk...       0\n",
              "3  On Christmas day, Donald Trump announced that ...       0\n",
              "4  Pope Francis used his annual Christmas Day mes...       0"
            ],
            "text/html": [
              "\n",
              "  <div id=\"df-4c637eb0-d04c-4f5f-a258-743958c17239\">\n",
              "    <div class=\"colab-df-container\">\n",
              "      <div>\n",
              "<style scoped>\n",
              "    .dataframe tbody tr th:only-of-type {\n",
              "        vertical-align: middle;\n",
              "    }\n",
              "\n",
              "    .dataframe tbody tr th {\n",
              "        vertical-align: top;\n",
              "    }\n",
              "\n",
              "    .dataframe thead th {\n",
              "        text-align: right;\n",
              "    }\n",
              "</style>\n",
              "<table border=\"1\" class=\"dataframe\">\n",
              "  <thead>\n",
              "    <tr style=\"text-align: right;\">\n",
              "      <th></th>\n",
              "      <th>article_content</th>\n",
              "      <th>labels</th>\n",
              "    </tr>\n",
              "  </thead>\n",
              "  <tbody>\n",
              "    <tr>\n",
              "      <th>0</th>\n",
              "      <td>Donald Trump just couldn t wish all Americans ...</td>\n",
              "      <td>0</td>\n",
              "    </tr>\n",
              "    <tr>\n",
              "      <th>1</th>\n",
              "      <td>House Intelligence Committee Chairman Devin Nu...</td>\n",
              "      <td>0</td>\n",
              "    </tr>\n",
              "    <tr>\n",
              "      <th>2</th>\n",
              "      <td>On Friday, it was revealed that former Milwauk...</td>\n",
              "      <td>0</td>\n",
              "    </tr>\n",
              "    <tr>\n",
              "      <th>3</th>\n",
              "      <td>On Christmas day, Donald Trump announced that ...</td>\n",
              "      <td>0</td>\n",
              "    </tr>\n",
              "    <tr>\n",
              "      <th>4</th>\n",
              "      <td>Pope Francis used his annual Christmas Day mes...</td>\n",
              "      <td>0</td>\n",
              "    </tr>\n",
              "  </tbody>\n",
              "</table>\n",
              "</div>\n",
              "      <button class=\"colab-df-convert\" onclick=\"convertToInteractive('df-4c637eb0-d04c-4f5f-a258-743958c17239')\"\n",
              "              title=\"Convert this dataframe to an interactive table.\"\n",
              "              style=\"display:none;\">\n",
              "        \n",
              "  <svg xmlns=\"http://www.w3.org/2000/svg\" height=\"24px\"viewBox=\"0 0 24 24\"\n",
              "       width=\"24px\">\n",
              "    <path d=\"M0 0h24v24H0V0z\" fill=\"none\"/>\n",
              "    <path d=\"M18.56 5.44l.94 2.06.94-2.06 2.06-.94-2.06-.94-.94-2.06-.94 2.06-2.06.94zm-11 1L8.5 8.5l.94-2.06 2.06-.94-2.06-.94L8.5 2.5l-.94 2.06-2.06.94zm10 10l.94 2.06.94-2.06 2.06-.94-2.06-.94-.94-2.06-.94 2.06-2.06.94z\"/><path d=\"M17.41 7.96l-1.37-1.37c-.4-.4-.92-.59-1.43-.59-.52 0-1.04.2-1.43.59L10.3 9.45l-7.72 7.72c-.78.78-.78 2.05 0 2.83L4 21.41c.39.39.9.59 1.41.59.51 0 1.02-.2 1.41-.59l7.78-7.78 2.81-2.81c.8-.78.8-2.07 0-2.86zM5.41 20L4 18.59l7.72-7.72 1.47 1.35L5.41 20z\"/>\n",
              "  </svg>\n",
              "      </button>\n",
              "      \n",
              "  <style>\n",
              "    .colab-df-container {\n",
              "      display:flex;\n",
              "      flex-wrap:wrap;\n",
              "      gap: 12px;\n",
              "    }\n",
              "\n",
              "    .colab-df-convert {\n",
              "      background-color: #E8F0FE;\n",
              "      border: none;\n",
              "      border-radius: 50%;\n",
              "      cursor: pointer;\n",
              "      display: none;\n",
              "      fill: #1967D2;\n",
              "      height: 32px;\n",
              "      padding: 0 0 0 0;\n",
              "      width: 32px;\n",
              "    }\n",
              "\n",
              "    .colab-df-convert:hover {\n",
              "      background-color: #E2EBFA;\n",
              "      box-shadow: 0px 1px 2px rgba(60, 64, 67, 0.3), 0px 1px 3px 1px rgba(60, 64, 67, 0.15);\n",
              "      fill: #174EA6;\n",
              "    }\n",
              "\n",
              "    [theme=dark] .colab-df-convert {\n",
              "      background-color: #3B4455;\n",
              "      fill: #D2E3FC;\n",
              "    }\n",
              "\n",
              "    [theme=dark] .colab-df-convert:hover {\n",
              "      background-color: #434B5C;\n",
              "      box-shadow: 0px 1px 3px 1px rgba(0, 0, 0, 0.15);\n",
              "      filter: drop-shadow(0px 1px 2px rgba(0, 0, 0, 0.3));\n",
              "      fill: #FFFFFF;\n",
              "    }\n",
              "  </style>\n",
              "\n",
              "      <script>\n",
              "        const buttonEl =\n",
              "          document.querySelector('#df-4c637eb0-d04c-4f5f-a258-743958c17239 button.colab-df-convert');\n",
              "        buttonEl.style.display =\n",
              "          google.colab.kernel.accessAllowed ? 'block' : 'none';\n",
              "\n",
              "        async function convertToInteractive(key) {\n",
              "          const element = document.querySelector('#df-4c637eb0-d04c-4f5f-a258-743958c17239');\n",
              "          const dataTable =\n",
              "            await google.colab.kernel.invokeFunction('convertToInteractive',\n",
              "                                                     [key], {});\n",
              "          if (!dataTable) return;\n",
              "\n",
              "          const docLinkHtml = 'Like what you see? Visit the ' +\n",
              "            '<a target=\"_blank\" href=https://colab.research.google.com/notebooks/data_table.ipynb>data table notebook</a>'\n",
              "            + ' to learn more about interactive tables.';\n",
              "          element.innerHTML = '';\n",
              "          dataTable['output_type'] = 'display_data';\n",
              "          await google.colab.output.renderOutput(dataTable, element);\n",
              "          const docLink = document.createElement('div');\n",
              "          docLink.innerHTML = docLinkHtml;\n",
              "          element.appendChild(docLink);\n",
              "        }\n",
              "      </script>\n",
              "    </div>\n",
              "  </div>\n",
              "  "
            ]
          },
          "metadata": {},
          "execution_count": 3
        }
      ]
    },
    {
      "cell_type": "code",
      "source": [
        "#For FA-KES\n",
        "df=pd.read_csv(\"/content/drive/MyDrive/Datasets/FA-KES/FA-KES.csv\", encoding='iso-8859-1')\n",
        "df=df.drop(labels=['unit_id','date','source','location','Unnamed: 7','Unnamed: 8','Unnamed: 9','Unnamed: 10'],axis=1)\n",
        "df.head()"
      ],
      "metadata": {
        "id": "vYFkNg3AD3YR",
        "colab": {
          "base_uri": "https://localhost:8080/",
          "height": 206
        },
        "outputId": "95f9394d-d23a-4221-dbd1-21086a92e687"
      },
      "execution_count": null,
      "outputs": [
        {
          "output_type": "execute_result",
          "data": {
            "text/plain": [
              "                                       article_title  \\\n",
              "0  Syria attack symptoms consistent with nerve ag...   \n",
              "1  Homs governor says U.S. attack caused deaths b...   \n",
              "2    Death toll from Aleppo bomb attack at least 112   \n",
              "3        Aleppo bomb blast kills six Syrian state TV   \n",
              "4  29 Syria Rebels Dead in Fighting for Key Alepp...   \n",
              "\n",
              "                                     article_content  labels  \n",
              "0  Wed 05 Apr 2017 Syria attack symptoms consiste...       0  \n",
              "1  Fri 07 Apr 2017 at 0914 Homs governor says U.S...       0  \n",
              "2  Sun 16 Apr 2017 Death toll from Aleppo bomb at...       0  \n",
              "3  Wed 19 Apr 2017 Aleppo bomb blast kills six Sy...       0  \n",
              "4  Sun 10 Jul 2016 29 Syria Rebels Dead in Fighti...       0  "
            ],
            "text/html": [
              "\n",
              "  <div id=\"df-6e48c752-cd3c-4e2c-9b8f-0e89173702f6\">\n",
              "    <div class=\"colab-df-container\">\n",
              "      <div>\n",
              "<style scoped>\n",
              "    .dataframe tbody tr th:only-of-type {\n",
              "        vertical-align: middle;\n",
              "    }\n",
              "\n",
              "    .dataframe tbody tr th {\n",
              "        vertical-align: top;\n",
              "    }\n",
              "\n",
              "    .dataframe thead th {\n",
              "        text-align: right;\n",
              "    }\n",
              "</style>\n",
              "<table border=\"1\" class=\"dataframe\">\n",
              "  <thead>\n",
              "    <tr style=\"text-align: right;\">\n",
              "      <th></th>\n",
              "      <th>article_title</th>\n",
              "      <th>article_content</th>\n",
              "      <th>labels</th>\n",
              "    </tr>\n",
              "  </thead>\n",
              "  <tbody>\n",
              "    <tr>\n",
              "      <th>0</th>\n",
              "      <td>Syria attack symptoms consistent with nerve ag...</td>\n",
              "      <td>Wed 05 Apr 2017 Syria attack symptoms consiste...</td>\n",
              "      <td>0</td>\n",
              "    </tr>\n",
              "    <tr>\n",
              "      <th>1</th>\n",
              "      <td>Homs governor says U.S. attack caused deaths b...</td>\n",
              "      <td>Fri 07 Apr 2017 at 0914 Homs governor says U.S...</td>\n",
              "      <td>0</td>\n",
              "    </tr>\n",
              "    <tr>\n",
              "      <th>2</th>\n",
              "      <td>Death toll from Aleppo bomb attack at least 112</td>\n",
              "      <td>Sun 16 Apr 2017 Death toll from Aleppo bomb at...</td>\n",
              "      <td>0</td>\n",
              "    </tr>\n",
              "    <tr>\n",
              "      <th>3</th>\n",
              "      <td>Aleppo bomb blast kills six Syrian state TV</td>\n",
              "      <td>Wed 19 Apr 2017 Aleppo bomb blast kills six Sy...</td>\n",
              "      <td>0</td>\n",
              "    </tr>\n",
              "    <tr>\n",
              "      <th>4</th>\n",
              "      <td>29 Syria Rebels Dead in Fighting for Key Alepp...</td>\n",
              "      <td>Sun 10 Jul 2016 29 Syria Rebels Dead in Fighti...</td>\n",
              "      <td>0</td>\n",
              "    </tr>\n",
              "  </tbody>\n",
              "</table>\n",
              "</div>\n",
              "      <button class=\"colab-df-convert\" onclick=\"convertToInteractive('df-6e48c752-cd3c-4e2c-9b8f-0e89173702f6')\"\n",
              "              title=\"Convert this dataframe to an interactive table.\"\n",
              "              style=\"display:none;\">\n",
              "        \n",
              "  <svg xmlns=\"http://www.w3.org/2000/svg\" height=\"24px\"viewBox=\"0 0 24 24\"\n",
              "       width=\"24px\">\n",
              "    <path d=\"M0 0h24v24H0V0z\" fill=\"none\"/>\n",
              "    <path d=\"M18.56 5.44l.94 2.06.94-2.06 2.06-.94-2.06-.94-.94-2.06-.94 2.06-2.06.94zm-11 1L8.5 8.5l.94-2.06 2.06-.94-2.06-.94L8.5 2.5l-.94 2.06-2.06.94zm10 10l.94 2.06.94-2.06 2.06-.94-2.06-.94-.94-2.06-.94 2.06-2.06.94z\"/><path d=\"M17.41 7.96l-1.37-1.37c-.4-.4-.92-.59-1.43-.59-.52 0-1.04.2-1.43.59L10.3 9.45l-7.72 7.72c-.78.78-.78 2.05 0 2.83L4 21.41c.39.39.9.59 1.41.59.51 0 1.02-.2 1.41-.59l7.78-7.78 2.81-2.81c.8-.78.8-2.07 0-2.86zM5.41 20L4 18.59l7.72-7.72 1.47 1.35L5.41 20z\"/>\n",
              "  </svg>\n",
              "      </button>\n",
              "      \n",
              "  <style>\n",
              "    .colab-df-container {\n",
              "      display:flex;\n",
              "      flex-wrap:wrap;\n",
              "      gap: 12px;\n",
              "    }\n",
              "\n",
              "    .colab-df-convert {\n",
              "      background-color: #E8F0FE;\n",
              "      border: none;\n",
              "      border-radius: 50%;\n",
              "      cursor: pointer;\n",
              "      display: none;\n",
              "      fill: #1967D2;\n",
              "      height: 32px;\n",
              "      padding: 0 0 0 0;\n",
              "      width: 32px;\n",
              "    }\n",
              "\n",
              "    .colab-df-convert:hover {\n",
              "      background-color: #E2EBFA;\n",
              "      box-shadow: 0px 1px 2px rgba(60, 64, 67, 0.3), 0px 1px 3px 1px rgba(60, 64, 67, 0.15);\n",
              "      fill: #174EA6;\n",
              "    }\n",
              "\n",
              "    [theme=dark] .colab-df-convert {\n",
              "      background-color: #3B4455;\n",
              "      fill: #D2E3FC;\n",
              "    }\n",
              "\n",
              "    [theme=dark] .colab-df-convert:hover {\n",
              "      background-color: #434B5C;\n",
              "      box-shadow: 0px 1px 3px 1px rgba(0, 0, 0, 0.15);\n",
              "      filter: drop-shadow(0px 1px 2px rgba(0, 0, 0, 0.3));\n",
              "      fill: #FFFFFF;\n",
              "    }\n",
              "  </style>\n",
              "\n",
              "      <script>\n",
              "        const buttonEl =\n",
              "          document.querySelector('#df-6e48c752-cd3c-4e2c-9b8f-0e89173702f6 button.colab-df-convert');\n",
              "        buttonEl.style.display =\n",
              "          google.colab.kernel.accessAllowed ? 'block' : 'none';\n",
              "\n",
              "        async function convertToInteractive(key) {\n",
              "          const element = document.querySelector('#df-6e48c752-cd3c-4e2c-9b8f-0e89173702f6');\n",
              "          const dataTable =\n",
              "            await google.colab.kernel.invokeFunction('convertToInteractive',\n",
              "                                                     [key], {});\n",
              "          if (!dataTable) return;\n",
              "\n",
              "          const docLinkHtml = 'Like what you see? Visit the ' +\n",
              "            '<a target=\"_blank\" href=https://colab.research.google.com/notebooks/data_table.ipynb>data table notebook</a>'\n",
              "            + ' to learn more about interactive tables.';\n",
              "          element.innerHTML = '';\n",
              "          dataTable['output_type'] = 'display_data';\n",
              "          await google.colab.output.renderOutput(dataTable, element);\n",
              "          const docLink = document.createElement('div');\n",
              "          docLink.innerHTML = docLinkHtml;\n",
              "          element.appendChild(docLink);\n",
              "        }\n",
              "      </script>\n",
              "    </div>\n",
              "  </div>\n",
              "  "
            ]
          },
          "metadata": {},
          "execution_count": 3
        }
      ]
    },
    {
      "cell_type": "code",
      "source": [
        "def removeURL(text):\n",
        "  from urllib.parse import urlparse\n",
        "  lst = [l for l in text.split() if not urlparse(l).scheme]\n",
        "  s = ' '.join(lst)\n",
        "  return s\n",
        "\n",
        "def removeIP(text):\n",
        "  import re\n",
        "  pattern = re.compile(r'(\\d{1,3}\\.\\d{1,3}\\.\\d{1,3}\\.\\d{1,3})')\n",
        "  text = re.sub(pattern, \"\", text)\n",
        "  return text\n",
        "\n",
        "for i in range( df.shape[0] ):\n",
        "  df['article_content'][i]=removeURL(df['article_content'][i])\n",
        "  df['article_content'][i]=removeIP(df['article_content'][i])\n",
        "df.head()"
      ],
      "metadata": {
        "colab": {
          "base_uri": "https://localhost:8080/"
        },
        "id": "4EET6w9UdfxE",
        "outputId": "7ea0b620-1432-49d3-da25-b0983398ec89"
      },
      "execution_count": null,
      "outputs": [
        {
          "output_type": "stream",
          "name": "stderr",
          "text": [
            "/usr/local/lib/python3.7/dist-packages/ipykernel_launcher.py:14: SettingWithCopyWarning: \n",
            "A value is trying to be set on a copy of a slice from a DataFrame\n",
            "\n",
            "See the caveats in the documentation: https://pandas.pydata.org/pandas-docs/stable/user_guide/indexing.html#returning-a-view-versus-a-copy\n",
            "  \n",
            "/usr/local/lib/python3.7/dist-packages/ipykernel_launcher.py:15: SettingWithCopyWarning: \n",
            "A value is trying to be set on a copy of a slice from a DataFrame\n",
            "\n",
            "See the caveats in the documentation: https://pandas.pydata.org/pandas-docs/stable/user_guide/indexing.html#returning-a-view-versus-a-copy\n",
            "  from ipykernel import kernelapp as app\n"
          ]
        }
      ]
    },
    {
      "cell_type": "code",
      "source": [
        "import nltk\n",
        "import re\n",
        "from nltk.corpus import stopwords\n",
        "from nltk.tokenize import word_tokenize\n",
        "from gensim.utils import lemmatize\n",
        "\n",
        "nltk.download('stopwords') # comment out if already downloaded\n",
        "nltk.download('punkt')     # comment out if already downloaded\n",
        "\n",
        "df['article_content'] = df['article_content'].apply(lambda x: x.lower())\n",
        "\n",
        "df.head()"
      ],
      "metadata": {
        "id": "SBsdgvRCsnsq"
      },
      "execution_count": null,
      "outputs": []
    },
    {
      "cell_type": "code",
      "source": [
        "df['article_content'] = df['article_content'].apply(lambda x:word_tokenize(x))\n",
        "df.head()"
      ],
      "metadata": {
        "id": "QVafEGyY07dq"
      },
      "execution_count": null,
      "outputs": []
    },
    {
      "cell_type": "code",
      "source": [
        "en_stops = set(stopwords.words('english'))\n",
        "\n",
        "for i in range( df.shape[0] ):\n",
        "  filtered=[]\n",
        "  for word in df['article_content'][i]:\n",
        "    if word not in en_stops:\n",
        "      filtered.append(word)\n",
        "  df['article_content'][i]=filtered\n",
        "\n",
        "df.head()"
      ],
      "metadata": {
        "id": "IoIyq_TKa6sY"
      },
      "execution_count": null,
      "outputs": []
    },
    {
      "cell_type": "code",
      "source": [
        "from nltk.stem import PorterStemmer\n",
        "\n",
        "pStemmer = PorterStemmer()\n",
        "\n",
        "for i in range( df.shape[0] ):\n",
        "  filtered=[]\n",
        "  for word in df['article_content'][i]:\n",
        "    filtered.append(pStemmer.stem(word))\n",
        "  df['article_content'][i]=filtered\n",
        "\n",
        "df.head()"
      ],
      "metadata": {
        "id": "N_XUQleTdF_j"
      },
      "execution_count": null,
      "outputs": []
    },
    {
      "cell_type": "code",
      "source": [
        "import gensim\n",
        "dim=100\n",
        "w2v_model=gensim.models.Word2Vec(sentences=df['article_content'],size=dim,window=10,min_count=1)\n",
        "\n"
      ],
      "metadata": {
        "id": "d_B8GlRygp00"
      },
      "execution_count": null,
      "outputs": []
    },
    {
      "cell_type": "code",
      "source": [
        "import warnings\n",
        "warnings.filterwarnings('ignore')"
      ],
      "metadata": {
        "id": "094YFbVy9Ip4"
      },
      "execution_count": null,
      "outputs": []
    },
    {
      "cell_type": "code",
      "source": [
        "from tensorflow.keras.preprocessing.text import Tokenizer\n",
        "from tensorflow.keras.preprocessing.sequence import pad_sequences\n",
        "tokenizer=Tokenizer()\n",
        "x=df['article_content']\n",
        "tokenizer.fit_on_texts(x)\n",
        "x=tokenizer.texts_to_sequences(x)\n",
        "\n",
        "maxlen=300\n",
        "x=pad_sequences(x,maxlen=maxlen)\n"
      ],
      "metadata": {
        "id": "E4tjOrwzhu6m"
      },
      "execution_count": null,
      "outputs": []
    },
    {
      "cell_type": "code",
      "source": [],
      "metadata": {
        "id": "pyBrrs3xczkP"
      },
      "execution_count": null,
      "outputs": []
    },
    {
      "cell_type": "code",
      "source": [
        "vocab_size=len(tokenizer.word_index)+1\n",
        "vocab=tokenizer.word_index"
      ],
      "metadata": {
        "id": "UCh27SabfIFb"
      },
      "execution_count": null,
      "outputs": []
    },
    {
      "cell_type": "code",
      "source": [
        "import numpy as np\n",
        "def get_weights(model):\n",
        "  weight_matrix=np.zeros((vocab_size,dim))\n",
        "\n",
        "  for word,i in vocab.items():\n",
        "    weight_matrix[i]=model.wv[word]\n",
        "\n",
        "  return weight_matrix\n",
        "embedding_vector=get_weights(w2v_model)\n",
        "\n"
      ],
      "metadata": {
        "id": "iHMt-QLyfVTm"
      },
      "execution_count": null,
      "outputs": []
    },
    {
      "cell_type": "code",
      "source": [
        "embedding_vector=get_weights(w2v_model)\n",
        "embedding_vector.shape"
      ],
      "metadata": {
        "id": "aFQzazfhfoZc"
      },
      "execution_count": null,
      "outputs": []
    },
    {
      "cell_type": "code",
      "source": [
        "import tensorflow as tf\n",
        "from tensorflow.keras import models,datasets,layers,backend\n",
        "from tensorflow.keras.models import Sequential\n",
        "from tensorflow.keras.layers import Embedding, LSTM, Conv1D, MaxPool1D, Conv2D, MaxPool2D\n",
        "from keras.layers.core import Dense, Dropout, Activation, Flatten"
      ],
      "metadata": {
        "id": "39BEYI6K_XCm"
      },
      "execution_count": null,
      "outputs": []
    },
    {
      "cell_type": "code",
      "source": [
        "model=models.Sequential()\n",
        "model.add(Embedding(vocab_size,output_dim=dim,input_length=maxlen,weights=[embedding_vector]))#,weights=[embedding_vector]\n",
        "model.add( Conv1D(filters=128,kernel_size=5,input_shape=(300,100),activation='relu',padding='valid') )# padding=0,stride=1,filters=128,spatial extent =5\n",
        "model.add( MaxPool1D( pool_size=2 ) )\n",
        "model.add( LSTM(units=32) )\n",
        "model.add( Dense(1,activation='sigmoid') )#sigmoid\n",
        "model.compile(optimizer='adam',loss='binary_crossentropy',metrics=['acc'])"
      ],
      "metadata": {
        "id": "dOnOn8ntB4ek"
      },
      "execution_count": null,
      "outputs": []
    },
    {
      "cell_type": "code",
      "source": [
        "model.summary()"
      ],
      "metadata": {
        "id": "Ui3aIfXgfyQm"
      },
      "execution_count": null,
      "outputs": []
    },
    {
      "cell_type": "code",
      "source": [
        "from sklearn.model_selection import train_test_split\n",
        "y=df['labels'].values\n",
        "x_train, x_test, y_train, y_test = train_test_split(x,y,test_size=0.3,train_size=0.7,shuffle=False)\n",
        "x_test, x_val, t_test, y_val = train_test_split(x_test,y_test,test_size = 0.3,train_size =0.7,shuffle=False)"
      ],
      "metadata": {
        "id": "SUvtoVnTzygF"
      },
      "execution_count": null,
      "outputs": []
    },
    {
      "cell_type": "code",
      "source": [
        "from sklearn.model_selection import train_test_split\n",
        "y=df['labels'].values\n",
        "x_train,x_test,y_train,t_test=train_test_split(x,y,shuffle=True)"
      ],
      "metadata": {
        "id": "wwGyq16SnjRo"
      },
      "execution_count": null,
      "outputs": []
    },
    {
      "cell_type": "code",
      "source": [
        "model.fit(x_train,y_train,epochs=10,validation_data=(x_val,y_val),batch_size=64)"
      ],
      "metadata": {
        "colab": {
          "base_uri": "https://localhost:8080/"
        },
        "id": "b5PLrC64l3rk",
        "outputId": "1121e7da-b8e4-4e7b-cda1-80128eba15a9"
      },
      "execution_count": null,
      "outputs": [
        {
          "output_type": "stream",
          "name": "stdout",
          "text": [
            "Epoch 1/10\n",
            "7/7 [==============================] - 5s 371ms/step - loss: 0.7113 - acc: 0.5000 - val_loss: 0.6995 - val_acc: 0.5525\n",
            "Epoch 2/10\n",
            "7/7 [==============================] - 2s 283ms/step - loss: 0.6896 - acc: 0.5284 - val_loss: 0.7008 - val_acc: 0.4309\n",
            "Epoch 3/10\n",
            "7/7 [==============================] - 2s 281ms/step - loss: 0.6788 - acc: 0.5687 - val_loss: 0.6920 - val_acc: 0.5028\n",
            "Epoch 4/10\n",
            "7/7 [==============================] - 2s 345ms/step - loss: 0.6632 - acc: 0.6066 - val_loss: 0.6974 - val_acc: 0.5359\n",
            "Epoch 5/10\n",
            "7/7 [==============================] - 3s 490ms/step - loss: 0.6514 - acc: 0.6611 - val_loss: 0.6976 - val_acc: 0.5359\n",
            "Epoch 6/10\n",
            "7/7 [==============================] - 2s 282ms/step - loss: 0.6340 - acc: 0.6588 - val_loss: 0.7029 - val_acc: 0.5249\n",
            "Epoch 7/10\n",
            "7/7 [==============================] - 2s 280ms/step - loss: 0.6297 - acc: 0.6564 - val_loss: 0.7268 - val_acc: 0.4972\n",
            "Epoch 8/10\n",
            "7/7 [==============================] - 2s 280ms/step - loss: 0.6164 - acc: 0.6469 - val_loss: 0.7013 - val_acc: 0.5304\n",
            "Epoch 9/10\n",
            "7/7 [==============================] - 2s 278ms/step - loss: 0.5942 - acc: 0.7322 - val_loss: 0.7167 - val_acc: 0.4807\n",
            "Epoch 10/10\n",
            "7/7 [==============================] - 2s 278ms/step - loss: 0.5714 - acc: 0.7536 - val_loss: 0.7243 - val_acc: 0.5028\n"
          ]
        },
        {
          "output_type": "execute_result",
          "data": {
            "text/plain": [
              "<keras.callbacks.History at 0x7f88485c3790>"
            ]
          },
          "metadata": {},
          "execution_count": 31
        }
      ]
    },
    {
      "cell_type": "code",
      "source": [
        "y_pred=(model.predict(x_test)>=0.5).astype(int)"
      ],
      "metadata": {
        "id": "pVS1MParre1L",
        "colab": {
          "base_uri": "https://localhost:8080/"
        },
        "outputId": "3a8208e4-817b-492c-a765-d1c009429a5b"
      },
      "execution_count": null,
      "outputs": [
        {
          "output_type": "stream",
          "name": "stdout",
          "text": [
            "7/7 [==============================] - 1s 35ms/step\n"
          ]
        }
      ]
    },
    {
      "cell_type": "code",
      "source": [
        "from sklearn.metrics import accuracy_score\n",
        "accuracy_score(t_test,y_pred)"
      ],
      "metadata": {
        "colab": {
          "base_uri": "https://localhost:8080/"
        },
        "id": "yTnkFW2Yr06M",
        "outputId": "fc87417d-f064-48dd-eec9-6822152a0566"
      },
      "execution_count": null,
      "outputs": [
        {
          "output_type": "execute_result",
          "data": {
            "text/plain": [
              "0.4925373134328358"
            ]
          },
          "metadata": {},
          "execution_count": 21
        }
      ]
    }
  ]
}